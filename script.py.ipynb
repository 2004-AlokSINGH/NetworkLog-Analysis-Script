{
 "cells": [
  {
   "cell_type": "markdown",
   "id": "5dc9ed07",
   "metadata": {},
   "source": [
    "# Code to do Analysis on network logs"
   ]
  },
  {
   "cell_type": "code",
   "execution_count": 20,
   "id": "37bd8edc",
   "metadata": {},
   "outputs": [
    {
     "name": "stdout",
     "output_type": "stream",
     "text": [
      "Requests per IP saved to 'requests_per_ip.csv'.\n",
      "All accessed endpoints saved to 'most_accessed_endpoint.csv'.\n"
     ]
    },
    {
     "ename": "TypeError",
     "evalue": "open() missing 1 required positional argument: 'file'",
     "output_type": "error",
     "traceback": [
      "\u001b[1;31m---------------------------------------------------------------------------\u001b[0m",
      "\u001b[1;31mTypeError\u001b[0m                                 Traceback (most recent call last)",
      "Cell \u001b[1;32mIn[20], line 129\u001b[0m\n\u001b[0;32m    127\u001b[0m LOG_FILE \u001b[38;5;241m=\u001b[39m \u001b[38;5;124m\"\u001b[39m\u001b[38;5;124maccess_log.txt\u001b[39m\u001b[38;5;124m\"\u001b[39m  \u001b[38;5;66;03m# Replace with your log file\u001b[39;00m\n\u001b[0;32m    128\u001b[0m FAILURE_THRESHOLD \u001b[38;5;241m=\u001b[39m \u001b[38;5;241m7\u001b[39m\n\u001b[1;32m--> 129\u001b[0m \u001b[43mrun_log_analysis\u001b[49m\u001b[43m(\u001b[49m\u001b[43mLOG_FILE\u001b[49m\u001b[43m,\u001b[49m\u001b[43m \u001b[49m\u001b[43mFAILURE_THRESHOLD\u001b[49m\u001b[43m)\u001b[49m\n",
      "Cell \u001b[1;32mIn[20], line 122\u001b[0m, in \u001b[0;36mrun_log_analysis\u001b[1;34m(file_name, threshold)\u001b[0m\n\u001b[0;32m    119\u001b[0m most_accessed_endpoint \u001b[38;5;241m=\u001b[39m find_most_accessed_endpoint(file_name)\n\u001b[0;32m    120\u001b[0m suspicious_activity \u001b[38;5;241m=\u001b[39m detect_suspicious_activity(file_name, threshold)\n\u001b[1;32m--> 122\u001b[0m \u001b[43msave_results_to_csv\u001b[49m\u001b[43m(\u001b[49m\u001b[43mip_requests\u001b[49m\u001b[43m,\u001b[49m\u001b[43m \u001b[49m\u001b[43mmost_accessed_endpoint\u001b[49m\u001b[43m)\u001b[49m\n\u001b[0;32m    123\u001b[0m save_to_csv_suspicious_activity(suspicious_activity)\n\u001b[0;32m    124\u001b[0m display_results(ip_requests, most_accessed_endpoint, suspicious_activity)\n",
      "Cell \u001b[1;32mIn[20], line 86\u001b[0m, in \u001b[0;36msave_results_to_csv\u001b[1;34m(ip_requests, most_accessed_endpoint)\u001b[0m\n\u001b[0;32m     82\u001b[0m         writer\u001b[38;5;241m.\u001b[39mwriterow([endpoint, count])\n\u001b[0;32m     83\u001b[0m \u001b[38;5;28mprint\u001b[39m(\u001b[38;5;124m\"\u001b[39m\u001b[38;5;124mAll accessed endpoints saved to \u001b[39m\u001b[38;5;124m'\u001b[39m\u001b[38;5;124mmost_accessed_endpoint.csv\u001b[39m\u001b[38;5;124m'\u001b[39m\u001b[38;5;124m.\u001b[39m\u001b[38;5;124m\"\u001b[39m)\n\u001b[1;32m---> 86\u001b[0m \u001b[38;5;28;01mwith\u001b[39;00m \u001b[38;5;28;43mopen\u001b[39;49m\u001b[43m(\u001b[49m\u001b[43mfilename\u001b[49m\u001b[38;5;241;43m=\u001b[39;49m\u001b[38;5;124;43m'\u001b[39;49m\u001b[38;5;124;43msuspicious_activity.csv\u001b[39;49m\u001b[38;5;124;43m'\u001b[39;49m\u001b[43m,\u001b[49m\u001b[43m \u001b[49m\u001b[43mmode\u001b[49m\u001b[38;5;241;43m=\u001b[39;49m\u001b[38;5;124;43m'\u001b[39;49m\u001b[38;5;124;43mw\u001b[39;49m\u001b[38;5;124;43m'\u001b[39;49m\u001b[43m,\u001b[49m\u001b[43m \u001b[49m\u001b[43mnewline\u001b[49m\u001b[38;5;241;43m=\u001b[39;49m\u001b[38;5;124;43m'\u001b[39;49m\u001b[38;5;124;43m'\u001b[39;49m\u001b[43m)\u001b[49m \u001b[38;5;28;01mas\u001b[39;00m file:\n\u001b[0;32m     87\u001b[0m     writer \u001b[38;5;241m=\u001b[39m csv\u001b[38;5;241m.\u001b[39mwriter(file)\n\u001b[0;32m     88\u001b[0m     writer\u001b[38;5;241m.\u001b[39mwriterow([\u001b[38;5;124m'\u001b[39m\u001b[38;5;124mIP Address\u001b[39m\u001b[38;5;124m'\u001b[39m, \u001b[38;5;124m'\u001b[39m\u001b[38;5;124mFailed Login Count\u001b[39m\u001b[38;5;124m'\u001b[39m])\n",
      "\u001b[1;31mTypeError\u001b[0m: open() missing 1 required positional argument: 'file'"
     ]
    }
   ],
   "source": [
    "import re\n",
    "import csv\n",
    "import pandas as pd\n",
    "from collections import Counter\n",
    "\n",
    "\n",
    "def count_requests_per_ip(file_name):\n",
    "    ip_requests = Counter()\n",
    "    log_pattern = r'(?P<ip>\\d+\\.\\d+\\.\\d+\\.\\d+) - - \\[(?P<timestamp>.*?)\\] \"(?P<method>GET|POST) (?P<endpoint>.*?) HTTP/1.1\" (?P<status>\\d+) (?P<size>\\d+)( \"(?P<error_message>.*?)\")?'\n",
    "    \n",
    "    with open(file_name, \"r\") as file:\n",
    "        for line in file:\n",
    "            match = re.match(log_pattern, line)\n",
    "            if match:\n",
    "                ip = match.group(\"ip\")\n",
    "                ip_requests[ip] += 1\n",
    "\n",
    "    return ip_requests\n",
    "\n",
    "\n",
    "\n",
    "def find_most_accessed_endpoint(file_name):\n",
    "    endpoint_hits = Counter()\n",
    "    log_pattern = r'(?P<ip>\\d+\\.\\d+\\.\\d+\\.\\d+) - - \\[(?P<timestamp>.*?)\\] \"(?P<method>GET|POST) (?P<endpoint>.*?) HTTP/1.1\" (?P<status>\\d+) (?P<size>\\d+)( \"(?P<error_message>.*?)\")?'\n",
    "    \n",
    "    with open(file_name, \"r\") as file:\n",
    "        for line in file:\n",
    "            match = re.match(log_pattern, line)\n",
    "            if match:\n",
    "                endpoint = match.group(\"endpoint\")\n",
    "                endpoint_hits[endpoint] += 1\n",
    "\n",
    "    if endpoint_hits:\n",
    "        most_accessed = endpoint_hits.most_common()\n",
    "        return most_accessed\n",
    "    else:\n",
    "        return None\n",
    "    \n",
    "    \n",
    "    \n",
    "def detect_suspicious_activity(log_file, threshold):\n",
    "    failed_attempts = Counter()  # Store IP and count of failed attempts\n",
    "    pattern = r'(?P<ip>\\d+\\.\\d+\\.\\d+\\.\\d+) - - \\[.*?\\] \"POST /login HTTP/1.1\" 401 .*?\"Invalid credentials\"'\n",
    "\n",
    "    with open(log_file, 'r') as file:\n",
    "        for line in file:\n",
    "            match = re.search(pattern, line)\n",
    "            if match:\n",
    "                ip = match.group('ip')\n",
    "                failed_attempts[ip] += 1\n",
    "\n",
    "    # Filter IPs exceeding the threshold\n",
    "    suspicious_activity = {ip: count for ip, count in failed_attempts.items() if count > threshold}\n",
    "    return suspicious_activity\n",
    "\n",
    "\n",
    "\n",
    "def save_to_csv_suspicious_activity(suspicious_activity, filename='suspicious_activity.csv'):\n",
    "    with open(filename, mode='w', newline='') as file:\n",
    "        writer = csv.writer(file)\n",
    "        writer.writerow(['IP Address', 'Failed Login Count'])\n",
    "        for ip, count in suspicious_activity.items():\n",
    "            writer.writerow([ip, count])\n",
    "    print(f\"Suspicious activity saved to '{filename}'.\")\n",
    "    \n",
    "    \n",
    "    \n",
    "def save_results_to_csv(ip_requests, most_accessed_endpoint):\n",
    "    # Save requests per IP to a CSV file\n",
    "    with open('requests_per_ip.csv', mode='w', newline='') as file:\n",
    "        writer = csv.writer(file)\n",
    "        writer.writerow(['IP Address', 'Request Count'])\n",
    "        for ip, count in ip_requests.items():\n",
    "            writer.writerow([ip, count])\n",
    "    print(\"Requests per IP saved to 'requests_per_ip.csv'.\")\n",
    "\n",
    "    # Save most accessed endpoints to a CSV file\n",
    "    with open('most_accessed_endpoint.csv', mode='w', newline='') as file:\n",
    "        writer = csv.writer(file)\n",
    "        writer.writerow(['Endpoint', 'Access Count'])\n",
    "        for endpoint, count in most_accessed_endpoint:  \n",
    "            writer.writerow([endpoint, count])\n",
    "    print(\"All accessed endpoints saved to 'most_accessed_endpoint.csv'.\")\n",
    "\n",
    "# Function to display the results\n",
    "def display_results(ip_requests, most_accessed_endpoint, suspicious_activity):\n",
    "    # Display the most requested IP addresses\n",
    "    print(\"IP Address           Request Count\")\n",
    "    for ip, count in ip_requests.most_common():\n",
    "        print(f\"{ip:20} {count}\")\n",
    "  \n",
    "    if most_accessed_endpoint:\n",
    "        most_frequent = most_accessed_endpoint[0]  \n",
    "        print(\"\\nMost Frequently Accessed Endpoint:\")\n",
    "        print(f\"{most_frequent[0]} (Accessed {most_frequent[1]} times)\")\n",
    "    else:\n",
    "        print(\"\\nNo endpoints were found in the log file.\")\n",
    "    \n",
    "    # Display suspicious activity\n",
    "    print(\"\\nSuspicious Activity Detected:\")\n",
    "    if suspicious_activity:\n",
    "        print(\"IP Address           Failed Login Attempts\")\n",
    "        for ip, count in suspicious_activity.items():\n",
    "            print(f\"{ip:20} {count}\")\n",
    "    else:\n",
    "        print(\"No suspicious activity detected.\")\n",
    "\n",
    "# Main function to run the log analysis\n",
    "def run_log_analysis(file_name, threshold=5):\n",
    "    ip_requests = count_requests_per_ip(file_name)   \n",
    "    most_accessed_endpoint = find_most_accessed_endpoint(file_name)\n",
    "    suspicious_activity = detect_suspicious_activity(file_name, threshold)\n",
    "\n",
    "    save_results_to_csv(ip_requests, most_accessed_endpoint)\n",
    "    save_to_csv_suspicious_activity(suspicious_activity)\n",
    "    display_results(ip_requests, most_accessed_endpoint, suspicious_activity)\n",
    "\n",
    "# Run the analysis\n",
    "LOG_FILE = \"access_log.txt\"  # Replace with your log file\n",
    "FAILURE_THRESHOLD = 7\n",
    "run_log_analysis(LOG_FILE, FAILURE_THRESHOLD)\n"
   ]
  },
  {
   "cell_type": "markdown",
   "id": "318b8c88",
   "metadata": {},
   "source": [
    "# Analysis over log result"
   ]
  },
  {
   "cell_type": "code",
   "execution_count": 11,
   "id": "07af0b4a",
   "metadata": {},
   "outputs": [],
   "source": [
    "df1= pd.read_csv(\"requests_per_ip.csv\")"
   ]
  },
  {
   "cell_type": "code",
   "execution_count": 12,
   "id": "c5786947",
   "metadata": {},
   "outputs": [
    {
     "data": {
      "text/html": [
       "<div>\n",
       "<style scoped>\n",
       "    .dataframe tbody tr th:only-of-type {\n",
       "        vertical-align: middle;\n",
       "    }\n",
       "\n",
       "    .dataframe tbody tr th {\n",
       "        vertical-align: top;\n",
       "    }\n",
       "\n",
       "    .dataframe thead th {\n",
       "        text-align: right;\n",
       "    }\n",
       "</style>\n",
       "<table border=\"1\" class=\"dataframe\">\n",
       "  <thead>\n",
       "    <tr style=\"text-align: right;\">\n",
       "      <th></th>\n",
       "      <th>IP Address</th>\n",
       "      <th>Request Count</th>\n",
       "    </tr>\n",
       "  </thead>\n",
       "  <tbody>\n",
       "    <tr>\n",
       "      <th>0</th>\n",
       "      <td>192.168.1.1</td>\n",
       "      <td>7</td>\n",
       "    </tr>\n",
       "    <tr>\n",
       "      <th>1</th>\n",
       "      <td>203.0.113.5</td>\n",
       "      <td>8</td>\n",
       "    </tr>\n",
       "    <tr>\n",
       "      <th>2</th>\n",
       "      <td>10.0.0.2</td>\n",
       "      <td>6</td>\n",
       "    </tr>\n",
       "    <tr>\n",
       "      <th>3</th>\n",
       "      <td>198.51.100.23</td>\n",
       "      <td>8</td>\n",
       "    </tr>\n",
       "    <tr>\n",
       "      <th>4</th>\n",
       "      <td>192.168.1.100</td>\n",
       "      <td>5</td>\n",
       "    </tr>\n",
       "  </tbody>\n",
       "</table>\n",
       "</div>"
      ],
      "text/plain": [
       "      IP Address  Request Count\n",
       "0    192.168.1.1              7\n",
       "1    203.0.113.5              8\n",
       "2       10.0.0.2              6\n",
       "3  198.51.100.23              8\n",
       "4  192.168.1.100              5"
      ]
     },
     "execution_count": 12,
     "metadata": {},
     "output_type": "execute_result"
    }
   ],
   "source": [
    "df1"
   ]
  },
  {
   "cell_type": "code",
   "execution_count": 13,
   "id": "f946216f",
   "metadata": {},
   "outputs": [],
   "source": [
    "df2 = pd.read_csv(\"most_accessed_endpoint.csv\")"
   ]
  },
  {
   "cell_type": "code",
   "execution_count": 14,
   "id": "c1c7a101",
   "metadata": {},
   "outputs": [
    {
     "data": {
      "text/html": [
       "<div>\n",
       "<style scoped>\n",
       "    .dataframe tbody tr th:only-of-type {\n",
       "        vertical-align: middle;\n",
       "    }\n",
       "\n",
       "    .dataframe tbody tr th {\n",
       "        vertical-align: top;\n",
       "    }\n",
       "\n",
       "    .dataframe thead th {\n",
       "        text-align: right;\n",
       "    }\n",
       "</style>\n",
       "<table border=\"1\" class=\"dataframe\">\n",
       "  <thead>\n",
       "    <tr style=\"text-align: right;\">\n",
       "      <th></th>\n",
       "      <th>Endpoint</th>\n",
       "      <th>Access Count</th>\n",
       "    </tr>\n",
       "  </thead>\n",
       "  <tbody>\n",
       "    <tr>\n",
       "      <th>0</th>\n",
       "      <td>/login</td>\n",
       "      <td>13</td>\n",
       "    </tr>\n",
       "    <tr>\n",
       "      <th>1</th>\n",
       "      <td>/home</td>\n",
       "      <td>5</td>\n",
       "    </tr>\n",
       "    <tr>\n",
       "      <th>2</th>\n",
       "      <td>/about</td>\n",
       "      <td>5</td>\n",
       "    </tr>\n",
       "    <tr>\n",
       "      <th>3</th>\n",
       "      <td>/dashboard</td>\n",
       "      <td>3</td>\n",
       "    </tr>\n",
       "    <tr>\n",
       "      <th>4</th>\n",
       "      <td>/contact</td>\n",
       "      <td>2</td>\n",
       "    </tr>\n",
       "    <tr>\n",
       "      <th>5</th>\n",
       "      <td>/register</td>\n",
       "      <td>2</td>\n",
       "    </tr>\n",
       "    <tr>\n",
       "      <th>6</th>\n",
       "      <td>/profile</td>\n",
       "      <td>2</td>\n",
       "    </tr>\n",
       "    <tr>\n",
       "      <th>7</th>\n",
       "      <td>/feedback</td>\n",
       "      <td>2</td>\n",
       "    </tr>\n",
       "  </tbody>\n",
       "</table>\n",
       "</div>"
      ],
      "text/plain": [
       "     Endpoint  Access Count\n",
       "0      /login            13\n",
       "1       /home             5\n",
       "2      /about             5\n",
       "3  /dashboard             3\n",
       "4    /contact             2\n",
       "5   /register             2\n",
       "6    /profile             2\n",
       "7   /feedback             2"
      ]
     },
     "execution_count": 14,
     "metadata": {},
     "output_type": "execute_result"
    }
   ],
   "source": [
    "df2"
   ]
  },
  {
   "cell_type": "code",
   "execution_count": 15,
   "id": "68feed1c",
   "metadata": {},
   "outputs": [],
   "source": [
    "df3 = pd.read_csv(\"suspicious_activity.csv\")"
   ]
  },
  {
   "cell_type": "code",
   "execution_count": 16,
   "id": "442a22bb",
   "metadata": {},
   "outputs": [
    {
     "data": {
      "text/html": [
       "<div>\n",
       "<style scoped>\n",
       "    .dataframe tbody tr th:only-of-type {\n",
       "        vertical-align: middle;\n",
       "    }\n",
       "\n",
       "    .dataframe tbody tr th {\n",
       "        vertical-align: top;\n",
       "    }\n",
       "\n",
       "    .dataframe thead th {\n",
       "        text-align: right;\n",
       "    }\n",
       "</style>\n",
       "<table border=\"1\" class=\"dataframe\">\n",
       "  <thead>\n",
       "    <tr style=\"text-align: right;\">\n",
       "      <th></th>\n",
       "      <th>IP Address</th>\n",
       "      <th>Failed Login Count</th>\n",
       "    </tr>\n",
       "  </thead>\n",
       "  <tbody>\n",
       "    <tr>\n",
       "      <th>0</th>\n",
       "      <td>203.0.113.5</td>\n",
       "      <td>8</td>\n",
       "    </tr>\n",
       "  </tbody>\n",
       "</table>\n",
       "</div>"
      ],
      "text/plain": [
       "    IP Address  Failed Login Count\n",
       "0  203.0.113.5                   8"
      ]
     },
     "execution_count": 16,
     "metadata": {},
     "output_type": "execute_result"
    }
   ],
   "source": [
    "df3"
   ]
  },
  {
   "cell_type": "code",
   "execution_count": null,
   "id": "5c79dc93",
   "metadata": {},
   "outputs": [],
   "source": []
  },
  {
   "cell_type": "code",
   "execution_count": null,
   "id": "685edf32",
   "metadata": {},
   "outputs": [],
   "source": []
  },
  {
   "cell_type": "code",
   "execution_count": null,
   "id": "42762655",
   "metadata": {},
   "outputs": [],
   "source": []
  },
  {
   "cell_type": "code",
   "execution_count": null,
   "id": "d1b5b1b7",
   "metadata": {},
   "outputs": [],
   "source": []
  },
  {
   "cell_type": "code",
   "execution_count": null,
   "id": "df3ddc22",
   "metadata": {},
   "outputs": [],
   "source": []
  }
 ],
 "metadata": {
  "kernelspec": {
   "display_name": "Python 3 (ipykernel)",
   "language": "python",
   "name": "python3"
  },
  "language_info": {
   "codemirror_mode": {
    "name": "ipython",
    "version": 3
   },
   "file_extension": ".py",
   "mimetype": "text/x-python",
   "name": "python",
   "nbconvert_exporter": "python",
   "pygments_lexer": "ipython3",
   "version": "3.10.9"
  }
 },
 "nbformat": 4,
 "nbformat_minor": 5
}
